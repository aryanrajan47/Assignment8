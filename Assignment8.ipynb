{
 "cells": [
  {
   "cell_type": "code",
   "execution_count": 26,
   "id": "1a08ba30-ab24-4e6d-bc1f-1c08ec24cf60",
   "metadata": {},
   "outputs": [
    {
     "name": "stdin",
     "output_type": "stream",
     "text": [
      "Enter the password Ary@Raj$1#\n"
     ]
    },
    {
     "name": "stdout",
     "output_type": "stream",
     "text": [
      "Valid Password\n"
     ]
    }
   ],
   "source": [
    "''' QUESTION 1 '''\n",
    "\n",
    "import string \n",
    "\n",
    "pwd = input(\"Enter the password\")\n",
    "\n",
    "lower = string.ascii_lowercase\n",
    "upper = string.ascii_uppercase\n",
    "digits = string.digits\n",
    "spc_ch = string.punctuation\n",
    "\n",
    "if ( len(pwd)==10 and sum(char in lower for char in pwd)>=2 and sum(char in upper for char in pwd)>=2 and sum(char in digits for char in pwd)==1 and sum(char in spc_ch for char in pwd)==3 ):\n",
    "    print(\"Valid Password\")\n",
    "else:\n",
    "    print(\"Invalid Password\")\n"
   ]
  },
  {
   "cell_type": "code",
   "execution_count": 28,
   "id": "b596dc59-3ad2-44d9-be79-8bb24eea5c3e",
   "metadata": {},
   "outputs": [
    {
     "name": "stdout",
     "output_type": "stream",
     "text": [
      "['A']\n"
     ]
    }
   ],
   "source": [
    "''' QUESTION 2 '''\n",
    "\n",
    "# 1).check if the string starts with a particular letter\n",
    "\n",
    "name = 'Aryan'\n",
    "first_letter = list(filter(lambda x : x.startswith(\"A\") , name ))\n",
    "print(first_letter)\n"
   ]
  },
  {
   "cell_type": "code",
   "execution_count": 3,
   "id": "abe4855f-f0d7-4a28-93aa-4f3d838c9f40",
   "metadata": {},
   "outputs": [
    {
     "name": "stdout",
     "output_type": "stream",
     "text": [
      "True\n"
     ]
    }
   ],
   "source": [
    "# 2).check if the string is numeric \n",
    "\n",
    "integer = \"1234567890\"\n",
    "num = integer.isnumeric()\n",
    "print(num)\n"
   ]
  },
  {
   "cell_type": "code",
   "execution_count": 30,
   "id": "e7285ccb-f442-4ecf-a7d5-42f7398baef6",
   "metadata": {},
   "outputs": [
    {
     "name": "stdout",
     "output_type": "stream",
     "text": [
      "[('orange', 80), ('mango', 99), ('grapes', 100)]\n"
     ]
    }
   ],
   "source": [
    "# 3).sort a list of tuples having fruit names and their quantity \n",
    "\n",
    "l1 = [(\"mango\",99),(\"orange\",80),(\"grapes\",100)]\n",
    "l1.sort(key=lambda x : x[1])\n",
    "print(l1)\n"
   ]
  },
  {
   "cell_type": "code",
   "execution_count": 31,
   "id": "e8394c09-96d6-4323-ac29-7e22bdab45a6",
   "metadata": {},
   "outputs": [
    {
     "name": "stdout",
     "output_type": "stream",
     "text": [
      "[1, 4, 9, 16, 25, 36, 49, 64, 81, 100]\n"
     ]
    }
   ],
   "source": [
    "# 4).Find the squares of numbers from 1 to 10\n",
    "\n",
    "l2 = [1,2,3,4,5,6,7,8,9,10]\n",
    "sqr_l2 = list(map(lambda x : x ** 2 , l2 ))\n",
    "print(sqr_l2)\n"
   ]
  },
  {
   "cell_type": "code",
   "execution_count": 9,
   "id": "fe0bc445-58f2-49cf-aa10-32b77cfdd2bd",
   "metadata": {},
   "outputs": [
    {
     "name": "stdout",
     "output_type": "stream",
     "text": [
      "[1, 8, 27, 64, 125, 216, 343, 512, 729, 1000]\n"
     ]
    }
   ],
   "source": [
    "\n",
    "# 5). Find the cube of numbers from 1 to 10\n",
    "\n",
    "l3 = [1,2,3,4,5,6,7,8,9,10]\n",
    "cube_l3 = list(map(lambda x : x ** 3 , l3 ))\n",
    "print(cube_l3)\n"
   ]
  },
  {
   "cell_type": "code",
   "execution_count": 10,
   "id": "106f5adf-ef5b-4fba-a2d7-c0059f78ac31",
   "metadata": {},
   "outputs": [
    {
     "name": "stdin",
     "output_type": "stream",
     "text": [
      "Enter the given number  11\n"
     ]
    },
    {
     "name": "stdout",
     "output_type": "stream",
     "text": [
      "ODD\n"
     ]
    }
   ],
   "source": [
    "\n",
    "# 6). Check if a given number is even\n",
    "\n",
    "num = int(input(\"Enter the given number \"))\n",
    "def even():\n",
    "    if ( num % 2 ==0 ):\n",
    "        print(\"EVEN\")\n",
    "    else:\n",
    "        print(\"ODD\")\n",
    "even()\n"
   ]
  },
  {
   "cell_type": "code",
   "execution_count": 11,
   "id": "aae6b06a-cb57-42df-98b2-1a587b5f4ea0",
   "metadata": {},
   "outputs": [
    {
     "name": "stdout",
     "output_type": "stream",
     "text": [
      "[1, 3, 5, 7, 9]\n"
     ]
    }
   ],
   "source": [
    "\n",
    "# 7). Filter odd numbers from the given list\n",
    "\n",
    "l3 = [1,2,3,4,5,6,7,8,9,10]\n",
    "odd = list(filter(lambda x : x % 2 != 0 , l3 ))\n",
    "print(odd)\n"
   ]
  },
  {
   "cell_type": "code",
   "execution_count": 12,
   "id": "26d8ec91-86f1-4371-a35c-20c30ed1e653",
   "metadata": {},
   "outputs": [
    {
     "name": "stdout",
     "output_type": "stream",
     "text": [
      "[1, 2, 3, 4, 5] [-1, -2, -3, -4, -5]\n",
      "[1, 2, 3, 4, 5] [-5, -4, -3, -2, -1]\n"
     ]
    }
   ],
   "source": [
    "# 8). Sort a list of integers into positive and negative lists\n",
    "\n",
    "l4 = [1,2,3,4,5,-1,-2,-3,-4,-5,0]\n",
    "positive  = [i for i in l4 if i > 0]\n",
    "negative = [i for i in l4 if i < 0]\n",
    "print(positive,negative)\n",
    "positive.sort()\n",
    "negative.sort()\n",
    "print(positive,negative)\n"
   ]
  }
 ],
 "metadata": {
  "kernelspec": {
   "display_name": "Python 3 (ipykernel)",
   "language": "python",
   "name": "python3"
  },
  "language_info": {
   "codemirror_mode": {
    "name": "ipython",
    "version": 3
   },
   "file_extension": ".py",
   "mimetype": "text/x-python",
   "name": "python",
   "nbconvert_exporter": "python",
   "pygments_lexer": "ipython3",
   "version": "3.10.6"
  }
 },
 "nbformat": 4,
 "nbformat_minor": 5
}
